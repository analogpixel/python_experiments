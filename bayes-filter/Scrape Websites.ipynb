{
 "cells": [
  {
   "cell_type": "markdown",
   "metadata": {},
   "source": [
    "https://www.crummy.com/software/BeautifulSoup/bs4/doc/\n",
    "    \n",
    "\n",
    "* white list domains, always interesting\n",
    "* curate the words in both lists? maybe that'll clean up the final score.  or just get more sample data in of things you like.\n"
   ]
  },
  {
   "cell_type": "code",
   "execution_count": 1,
   "metadata": {},
   "outputs": [],
   "source": [
    "#### from bs4 import BeautifulSoup\n",
    "import requests\n",
    "import functools\n",
    "import re\n",
    "import operator\n",
    "from bs4 import BeautifulSoup\n",
    "\n",
    "ignore_list = ['about','include','other','import','update','download']\n",
    "\n",
    "def get_words_site(url):\n",
    "    try:\n",
    "        soup = BeautifulSoup( requests.get(url).content.decode('utf-8') )\n",
    "        l1 = filter(lambda x: re.match(r'^[a-z].*', x),   set(soup.get_text().lower().split()) )\n",
    "        l2 = map( lambda x: re.sub(\"[^a-zA-Z]+\", \"\", x), l1)\n",
    "        l3 = filter(lambda x: len(x) >4, l2)\n",
    "        l4 = filter(lambda x: x not in ignore_list, l3)\n",
    "    except:\n",
    "        return False\n",
    "    \n",
    "    return list(l4)\n"
   ]
  },
  {
   "cell_type": "code",
   "execution_count": 94,
   "metadata": {},
   "outputs": [
    {
     "name": "stdout",
     "output_type": "stream",
     "text": [
      "https://www.latimes.com/homeless-housing/story/2022-06-20/california-affordable-housing-cost-1-million-apartment\n",
      "https://jacobhrussell.com/blog/mighty\n",
      "https://www.practicalmachinist.com/inspection-and-measurement/top-5-digital-calipers-for-machinists/\n",
      "https://engineering.fb.com/2022/06/20/data-infrastructure/transparent-memory-offloading-more-memory-at-a-fraction-of-the-cost-and-power/\n",
      "https://publicdomainreview.org/collection/shores-of-the-polar-sea/\n",
      "https://tuple.app/blog/sso-should-be-table-stakes\n",
      "https://github.com/sonnyt/just\n",
      "https://dantepfer.com/blog/?p=277\n",
      "https://blog.efitz.net/blog/icon-activism/\n",
      "https://eli.thegreenplace.net/2022/why-is-it-easy-to-implement-a-lisp/\n",
      "https://www.irishtimes.com/culture/tv-radio/2022/06/18/rowan-atkinson-in-a-proper-free-society-you-should-be-allowed-to-make-jokes-about-absolutely-anything/\n",
      "https://fasterthanli.me/articles/remote-development-with-rust-on-fly-io\n",
      "https://twitter.com/culturaltutor/status/1538211892707086338\n",
      "https://oa.mg/blog/watching-less-tv-could-lower-heart-disease-risk-study-finds/\n",
      "https://reincubate.com/support/how-to/why-are-webcams-bad/\n",
      "https://www.scientificamerican.com/article/how-parents-rsquo-trauma-leaves-biological-traces-in-children/\n",
      "https://joe-antognini.github.io/ml/consciousness\n",
      "https://xkit.co/blog/the-guide-to-building-sync-friendly-apis\n",
      "https://itrevolution.com/why-the-full-stack-engineer-is-problematic/\n",
      "https://www.cbc.ca/news/business/apple-union-1.6493940\n",
      "https://learn.adacore.com/courses/whats-new-in-ada-2022/index.html\n",
      "http://www.tikalon.com/blog/blog.php?article=2022/text_topography\n",
      "http://neugierig.org/software/blog/2022/06/wasm-notes.html\n",
      "https://fonts.bunny.net/about\n",
      "https://susiebright.substack.com/p/terminated\n",
      "https://realms.today/dao/SLND/proposal/3geE5P3D7VJRaNNDVfZciGsXgwGiao1hSNpRM6jWNa5A\n",
      "https://int10h.org/oldschool-pc-fonts/fontlist/\n"
     ]
    }
   ],
   "source": [
    "# Load data into database\n",
    "\n",
    "import sqlite3\n",
    "\n",
    "con = sqlite3.connect(\"data_collect/links.db\")\n",
    "cur = con.cursor()\n",
    "\n",
    "\"\"\"\n",
    "insert = []\n",
    "for l in open(\"data_collect/import.txt\"):\n",
    "    (url, state) = l.split(\",\")\n",
    "    state = int(state)\n",
    "    insert.append( (url, state, 0) )\n",
    "    \n",
    "cur.executemany(\n",
    "    \"REPLACE into links (url, rating, scanned) values (?,?,?)\", insert \n",
    ")\n",
    "con.commit()\n",
    "con.close()\n",
    "\"\"\"\n",
    "\n",
    "# ---\n",
    "\n",
    "# Download words into the database\n",
    "con = sqlite3.connect(\"data_collect/links.db\")\n",
    "cur = con.cursor()\n",
    "\n",
    "for row in cur.execute(\"select (url) from links where scanned=0\").fetchall():\n",
    "    url = row[0]\n",
    "    words = get_words_site( url)\n",
    "    if words:\n",
    "        print(url)\n",
    "        cur.execute(\"update links set words=? where url=?\", (\",\".join(words), url ) )\n",
    "        cur.execute(\"update links set scanned=? where url=?\", (True, url) )\n",
    "        con.commit()\n",
    "    else:\n",
    "        print(\"Failed to load {}\".format(url))\n",
    "\n",
    "con.close()\n",
    "\n",
    "# ---\n",
    "\n",
    "# Load words\n",
    "con = sqlite3.connect(\"data_collect/links.db\")\n",
    "cur = con.cursor()\n",
    "\n",
    "word_list = {}\n",
    "for row in cur.execute(\"select * from links where scanned=1\").fetchall():\n",
    "    (url, rating, words, scanned) = row\n",
    "    for word in words.split(','):\n",
    "        # [spam_count, ham_count]\n",
    "        word_list.setdefault(word, [0,0])\n",
    "        if rating == 0:\n",
    "            # spam\n",
    "            word_list[word][0] += 1\n",
    "        else:\n",
    "            # ham\n",
    "            word_list[word][1] += 1\n",
    "\n",
    "# word_list = dict(filter(lambda e: e[1][0] > 20 and e[1][1] == 0 , word_list.items()))\n",
    "\n",
    "spam_url_count = cur.execute(\"select count(url) from links where rating=0\").fetchall()[0][0]\n",
    "ham_url_count  = cur.execute(\"select count(url) from links where rating=1\").fetchall()[0][0]\n",
    "        \n",
    "con.close()\n",
    "\n",
    "ham_words = list(filter( lambda x: word_list[x][1] > 0, word_list.keys() ))\n",
    "spam_words = list(filter( lambda x: word_list[x][0] > 0, word_list.keys() ))\n",
    "\n",
    "only_ham_words = set(ham_words) - set(spam_words)\n",
    "only_spam_words = set(spam_words) - set(ham_words)\n",
    "all_words = set(ham_words) | set(spam_words)\n",
    "\n",
    "# ---\n",
    "\n",
    "#\n",
    "# TODO: instead of all_words, build a list of custom words to check for \n",
    "#\n",
    "scores = {}\n",
    "for word in all_words:\n",
    "    spam_scores = (word_list[word][0]+1) / (spam_url_count+2)\n",
    "    ham_scores = (word_list[word][1]+1) / (ham_url_count+2)\n",
    "    scores[word] = [spam_scores, ham_scores]\n",
    "    "
   ]
  },
  {
   "cell_type": "code",
   "execution_count": 106,
   "metadata": {},
   "outputs": [
    {
     "name": "stdout",
     "output_type": "stream",
     "text": [
      "0.5251506579756487\n",
      "Spam 0.5251506579756487\n"
     ]
    }
   ],
   "source": [
    "## Calculate if a site is spam or not\n",
    "#site_words = get_words_site(\"https://tylercipriani.com/blog/2022/04/30/ive-used-all-the-notebooks/\")\n",
    "site_words = get_words_site(\"https://www.theregister.com/2022/05/19/intel_immersion_lab/\")\n",
    "#site_words = get_words_site(\"https://kk.org/thetechnium/bicycle-haiku/\")\n",
    "#site_words = get_words_site(\"https://justine.lol/redbean2/\")\n",
    "#site_words = ['blinkenlightsgooglegroupscom']\n",
    "\n",
    "probs = []\n",
    "p2 = []\n",
    "\n",
    "pr_s = spam_url_count / ( spam_url_count + ham_url_count)\n",
    "pr_h = ham_url_count / ( spam_url_count + ham_url_count)\n",
    "\n",
    "# statically setting this number helps get to a saner result\n",
    "pr_s = .5\n",
    "pr_h = .5\n",
    "\n",
    "spam_total=0\n",
    "ham_total=0\n",
    "for word in site_words:\n",
    "    pr_ws = scores.get( word, [.5, 0])[0]\n",
    "    pr_wh = scores.get( word, [0, .5])[1] \n",
    "    spam_total += pr_ws\n",
    "    ham_total += pr_wh\n",
    "    \n",
    "final = (pr_s * spam_total) / ( (pr_s * spam_total) + (pr_h * ham_total) )\n",
    "\n",
    "print(final)\n",
    "if final > .5:\n",
    "    print(\"Spam\", final)\n",
    "else:\n",
    "    print(\"ok\", final)\n",
    "    \n"
   ]
  },
  {
   "cell_type": "code",
   "execution_count": 59,
   "metadata": {},
   "outputs": [
    {
     "data": {
      "text/plain": [
       "[0, 1]"
      ]
     },
     "execution_count": 59,
     "metadata": {},
     "output_type": "execute_result"
    }
   ],
   "source": [
    "word_list['blinkenlightsgooglegroupscom'] / "
   ]
  },
  {
   "cell_type": "code",
   "execution_count": 61,
   "metadata": {},
   "outputs": [
    {
     "data": {
      "text/plain": [
       "[0.0004111842105263158, 0.023305084745762712]"
      ]
     },
     "execution_count": 61,
     "metadata": {},
     "output_type": "execute_result"
    }
   ],
   "source": [
    "scores['blinkenlightsgooglegroupscom']"
   ]
  },
  {
   "cell_type": "code",
   "execution_count": null,
   "metadata": {},
   "outputs": [],
   "source": []
  }
 ],
 "metadata": {
  "kernelspec": {
   "display_name": "Python 3",
   "language": "python",
   "name": "python3"
  },
  "language_info": {
   "codemirror_mode": {
    "name": "ipython",
    "version": 3
   },
   "file_extension": ".py",
   "mimetype": "text/x-python",
   "name": "python",
   "nbconvert_exporter": "python",
   "pygments_lexer": "ipython3",
   "version": "3.8.3"
  }
 },
 "nbformat": 4,
 "nbformat_minor": 4
}
