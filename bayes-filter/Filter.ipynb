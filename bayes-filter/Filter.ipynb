{
 "cells": [
  {
   "cell_type": "markdown",
   "metadata": {},
   "source": [
    "Filter interesting and non-intersting messages\n",
    "\n",
    "https://my-website-38a0f.web.app/posts/04-11-2020-na%C3%AFve-bayes-spam-filter-from-scratch/"
   ]
  },
  {
   "cell_type": "code",
   "execution_count": 1,
   "metadata": {},
   "outputs": [],
   "source": [
    "import itertools\n",
    "import functools\n",
    "import operator\n",
    "\n",
    "train_spam = ['send us your password', 'review our website', 'send your password', 'send us your account']\n",
    "train_ham = ['Your activity report','benefits physical activity', 'the importance vows']\n",
    "test_emails = {'spam':['renew your password', 'renew your vows'], 'ham':['benefits of our account', 'the importance of physical activity']}\n"
   ]
  },
  {
   "cell_type": "code",
   "execution_count": 2,
   "metadata": {},
   "outputs": [],
   "source": [
    "spam_words = list(map(lambda x: x.lower().strip(), \" \".join(train_spam).split()))\n",
    "ham_words  = list(map(lambda x: x.lower().strip(), \" \".join(train_ham).split()))\n",
    "all_words = spam_words + ham_words"
   ]
  },
  {
   "cell_type": "markdown",
   "metadata": {},
   "source": [
    "We can count how many spam emails have the word “send” and divide that by the total number of spam emails \n",
    "\n",
    "Add 1 to each total for words that don't show up at all so we don't get a divide by 0"
   ]
  },
  {
   "cell_type": "code",
   "execution_count": 6,
   "metadata": {},
   "outputs": [],
   "source": [
    "\n",
    "scores = {}\n",
    "for word in all_words:\n",
    "    spam_scores = (([word in x.lower().split() for x in train_spam].count(True))+1) / ( len(train_spam)  +2 )\n",
    "    ham_scores = (([word in x.lower().split() for x in train_ham].count(True))+1) / ( len(train_ham) + 2)\n",
    "    scores[word] = [spam_scores, ham_scores]\n"
   ]
  },
  {
   "cell_type": "code",
   "execution_count": 9,
   "metadata": {},
   "outputs": [
    {
     "name": "stdout",
     "output_type": "stream",
     "text": [
      "vows 0.35714285714285715 0.6428571428571429\n",
      "your 0.689655172413793 0.3103448275862069\n",
      "0.2463054187192118 0.1995073891625616\n",
      "This is ham\n"
     ]
    }
   ],
   "source": [
    "#prob_word_is_spam_BAYES = (pr_WS*Pr_S)/((pr_WS*Pr_S)+(pr_WH*Pr_H))\n",
    "\n",
    "# probability email is spam\n",
    "pr_s = len(train_spam) / ( len(train_spam) + len(train_ham) )\n",
    "# probability email is ham\n",
    "pr_h  = len(train_ham) / (len(train_spam) + len(train_ham) )   \n",
    "\n",
    "# Get a list of words that are in the mail and in our list of known values\n",
    "check_words = set(test_emails['spam'][1].split()) & set(scores.keys())\n",
    "\n",
    "total_spam = []\n",
    "total_ham = []\n",
    "for word in check_words:\n",
    "    pr_ws = scores[word][0]\n",
    "    pr_wh = scores[word][1]\n",
    "    \n",
    "    prob_word_is_spam = (pr_ws * pr_s) / ( (pr_ws*pr_s)+(pr_wh*pr_h))\n",
    "    prob_word_is_ham  = (pr_wh * pr_h) / ( (pr_ws*pr_s)+(pr_wh*pr_h))\n",
    "    \n",
    "    print(word, prob_word_is_spam, prob_word_is_ham)\n",
    "    total_spam.append( prob_word_is_spam)\n",
    "    total_ham.append( prob_word_is_ham)\n",
    "    \n",
    "spam_score_final = functools.reduce( operator.mul, total_spam)\n",
    "ham_score_final = functools.reduce( operator.mul, total_ham)\n",
    "\n",
    "print(spam_score_final, ham_score_final) \n",
    "if (spam_score_final >= .5):\n",
    "    print(\"This is spam\")\n",
    "else:\n",
    "    print(\"This is ham\")"
   ]
  },
  {
   "cell_type": "code",
   "execution_count": null,
   "metadata": {},
   "outputs": [],
   "source": []
  }
 ],
 "metadata": {
  "kernelspec": {
   "display_name": "Python 3",
   "language": "python",
   "name": "python3"
  },
  "language_info": {
   "codemirror_mode": {
    "name": "ipython",
    "version": 3
   },
   "file_extension": ".py",
   "mimetype": "text/x-python",
   "name": "python",
   "nbconvert_exporter": "python",
   "pygments_lexer": "ipython3",
   "version": "3.8.3"
  }
 },
 "nbformat": 4,
 "nbformat_minor": 4
}
